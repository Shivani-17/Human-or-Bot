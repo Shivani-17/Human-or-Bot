{
 "metadata": {
  "name": "",
  "signature": "sha256:14962601adcd240086edd511c11abe3c5c4c74d0d90fdb16282cde726976af0c"
 },
 "nbformat": 3,
 "nbformat_minor": 0,
 "worksheets": [
  {
   "cells": [
    {
     "cell_type": "code",
     "collapsed": false,
     "input": [
      "import pandas as pd\n",
      "import numpy as np\n",
      "import matplotlib.pyplot as plt\n",
      "import seaborn as sns\n",
      "%matplotlib inline"
     ],
     "language": "python",
     "metadata": {},
     "outputs": [],
     "prompt_number": 14
    },
    {
     "cell_type": "code",
     "collapsed": false,
     "input": [
      "train_df = pd.read_csv('train.csv')\n",
      "test_df = pd.read_csv('test.csv')"
     ],
     "language": "python",
     "metadata": {},
     "outputs": [],
     "prompt_number": 2
    },
    {
     "cell_type": "code",
     "collapsed": false,
     "input": [
      "print(train_df.head())"
     ],
     "language": "python",
     "metadata": {},
     "outputs": [
      {
       "output_type": "stream",
       "stream": "stdout",
       "text": [
        "   age                 class_of_worker  industry_code  occupation_code  \\\n",
        "0   73                 Not in universe              0                0   \n",
        "1   58  Self-employed-not incorporated              4               34   \n",
        "2   18                 Not in universe              0                0   \n",
        "3    9                 Not in universe              0                0   \n",
        "4   10                 Not in universe              0                0   \n",
        "\n",
        "                    education  wage_per_hour enrolled_in_edu_inst_lastwk  \\\n",
        "0        High school graduate              0             Not in universe   \n",
        "1  Some college but no degree              0             Not in universe   \n",
        "2                  10th grade              0                 High school   \n",
        "3                    Children              0             Not in universe   \n",
        "4                    Children              0             Not in universe   \n",
        "\n",
        "  marital_status          major_industry_code  \\\n",
        "0        Widowed  Not in universe or children   \n",
        "1       Divorced                 Construction   \n",
        "2  Never married  Not in universe or children   \n",
        "3  Never married  Not in universe or children   \n",
        "4  Never married  Not in universe or children   \n",
        "\n",
        "                 major_occupation_code     ...      country_father  \\\n",
        "0                      Not in universe     ...       United-States   \n",
        "1  Precision production craft & repair     ...       United-States   \n",
        "2                      Not in universe     ...             Vietnam   \n",
        "3                      Not in universe     ...       United-States   \n",
        "4                      Not in universe     ...       United-States   \n",
        "\n",
        "  country_mother   country_self                         citizenship  \\\n",
        "0  United-States  United-States   Native- Born in the United States   \n",
        "1  United-States  United-States   Native- Born in the United States   \n",
        "2        Vietnam        Vietnam  Foreign born- Not a citizen of U S   \n",
        "3  United-States  United-States   Native- Born in the United States   \n",
        "4  United-States  United-States   Native- Born in the United States   \n",
        "\n",
        "  business_or_self_employed fill_questionnaire_veteran_admin  \\\n",
        "0                         0                  Not in universe   \n",
        "1                         0                  Not in universe   \n",
        "2                         0                  Not in universe   \n",
        "3                         0                  Not in universe   \n",
        "4                         0                  Not in universe   \n",
        "\n",
        "   veterans_benefits  weeks_worked_in_year  year income_level  \n",
        "0                  2                     0    95       -50000  \n",
        "1                  2                    52    94       -50000  \n",
        "2                  2                     0    95       -50000  \n",
        "3                  0                     0    94       -50000  \n",
        "4                  0                     0    94       -50000  \n",
        "\n",
        "[5 rows x 41 columns]\n"
       ]
      }
     ],
     "prompt_number": 3
    },
    {
     "cell_type": "code",
     "collapsed": false,
     "input": [
      "print(test_df.head())"
     ],
     "language": "python",
     "metadata": {},
     "outputs": [
      {
       "output_type": "stream",
       "stream": "stdout",
       "text": [
        "   age                  class_of_worker  industry_code  occupation_code  \\\n",
        "0   38                          Private              6               36   \n",
        "1   44   Self-employed-not incorporated             37               12   \n",
        "2    2                  Not in universe              0                0   \n",
        "3   35                          Private             29                3   \n",
        "4   49                          Private              4               34   \n",
        "\n",
        "                              education  wage_per_hour  \\\n",
        "0              1st 2nd 3rd or 4th grade              0   \n",
        "1   Associates degree-occup /vocational              0   \n",
        "2                              Children              0   \n",
        "3                  High school graduate              0   \n",
        "4                  High school graduate              0   \n",
        "\n",
        "  enrolled_in_edu_inst_lastwk                    marital_status  \\\n",
        "0             Not in universe   Married-civilian spouse present   \n",
        "1             Not in universe   Married-civilian spouse present   \n",
        "2             Not in universe                     Never married   \n",
        "3             Not in universe                          Divorced   \n",
        "4             Not in universe                          Divorced   \n",
        "\n",
        "             major_industry_code                   major_occupation_code  \\\n",
        "0    Manufacturing-durable goods   Machine operators assmblrs & inspctrs   \n",
        "1   Business and repair services                  Professional specialty   \n",
        "2    Not in universe or children                         Not in universe   \n",
        "3                 Transportation          Executive admin and managerial   \n",
        "4                   Construction     Precision production craft & repair   \n",
        "\n",
        "      ...       country_father  country_mother    country_self  \\\n",
        "0     ...               Mexico          Mexico          Mexico   \n",
        "1     ...        United-States   United-States   United-States   \n",
        "2     ...        United-States   United-States   United-States   \n",
        "3     ...        United-States   United-States   United-States   \n",
        "4     ...        United-States   United-States   United-States   \n",
        "\n",
        "                            citizenship business_or_self_employed  \\\n",
        "0   Foreign born- Not a citizen of U S                          0   \n",
        "1     Native- Born in the United States                         0   \n",
        "2     Native- Born in the United States                         0   \n",
        "3     Native- Born in the United States                         2   \n",
        "4     Native- Born in the United States                         0   \n",
        "\n",
        "  fill_questionnaire_veteran_admin  veterans_benefits  weeks_worked_in_year  \\\n",
        "0                  Not in universe                  2                    12   \n",
        "1                  Not in universe                  2                    26   \n",
        "2                  Not in universe                  0                     0   \n",
        "3                  Not in universe                  2                    52   \n",
        "4                  Not in universe                  2                    50   \n",
        "\n",
        "   year income_level  \n",
        "0    95       -50000  \n",
        "1    95       -50000  \n",
        "2    95       -50000  \n",
        "3    94       -50000  \n",
        "4    95       -50000  \n",
        "\n",
        "[5 rows x 41 columns]\n"
       ]
      }
     ],
     "prompt_number": 4
    },
    {
     "cell_type": "code",
     "collapsed": false,
     "input": [
      "print(train_df['income_level'].value_counts())"
     ],
     "language": "python",
     "metadata": {},
     "outputs": [
      {
       "output_type": "stream",
       "stream": "stdout",
       "text": [
        "-50000    187141\n",
        " 50000     12382\n",
        "Name: income_level, dtype: int64\n"
       ]
      }
     ],
     "prompt_number": 5
    },
    {
     "cell_type": "code",
     "collapsed": false,
     "input": [
      "print(t_df['income_level'].dtypes)"
     ],
     "language": "python",
     "metadata": {},
     "outputs": [
      {
       "output_type": "stream",
       "stream": "stdout",
       "text": [
        "object\n"
       ]
      }
     ],
     "prompt_number": 10
    },
    {
     "cell_type": "code",
     "collapsed": false,
     "input": [
      "train_df.loc[train_df['income_level'] == -50000,'income_level'] = 0\n",
      "train_df.loc[train_df['income_level'] == 50000,'income_level'] = 1\n",
      "test_df.loc[test_df['income_level'] == -50000,'income_level'] = 0\n",
      "test_df.loc[test_df['income_level'] == '50000+','income_level'] = 1"
     ],
     "language": "python",
     "metadata": {},
     "outputs": [],
     "prompt_number": 12
    },
    {
     "cell_type": "code",
     "collapsed": false,
     "input": [
      "print(train_df.head())"
     ],
     "language": "python",
     "metadata": {},
     "outputs": [
      {
       "output_type": "stream",
       "stream": "stdout",
       "text": [
        "   age                 class_of_worker  industry_code  occupation_code  \\\n",
        "0   73                 Not in universe              0                0   \n",
        "1   58  Self-employed-not incorporated              4               34   \n",
        "2   18                 Not in universe              0                0   \n",
        "3    9                 Not in universe              0                0   \n",
        "4   10                 Not in universe              0                0   \n",
        "\n",
        "                    education  wage_per_hour enrolled_in_edu_inst_lastwk  \\\n",
        "0        High school graduate              0             Not in universe   \n",
        "1  Some college but no degree              0             Not in universe   \n",
        "2                  10th grade              0                 High school   \n",
        "3                    Children              0             Not in universe   \n",
        "4                    Children              0             Not in universe   \n",
        "\n",
        "  marital_status          major_industry_code  \\\n",
        "0        Widowed  Not in universe or children   \n",
        "1       Divorced                 Construction   \n",
        "2  Never married  Not in universe or children   \n",
        "3  Never married  Not in universe or children   \n",
        "4  Never married  Not in universe or children   \n",
        "\n",
        "                 major_occupation_code     ...      country_father  \\\n",
        "0                      Not in universe     ...       United-States   \n",
        "1  Precision production craft & repair     ...       United-States   \n",
        "2                      Not in universe     ...             Vietnam   \n",
        "3                      Not in universe     ...       United-States   \n",
        "4                      Not in universe     ...       United-States   \n",
        "\n",
        "  country_mother   country_self                         citizenship  \\\n",
        "0  United-States  United-States   Native- Born in the United States   \n",
        "1  United-States  United-States   Native- Born in the United States   \n",
        "2        Vietnam        Vietnam  Foreign born- Not a citizen of U S   \n",
        "3  United-States  United-States   Native- Born in the United States   \n",
        "4  United-States  United-States   Native- Born in the United States   \n",
        "\n",
        "  business_or_self_employed fill_questionnaire_veteran_admin  \\\n",
        "0                         0                  Not in universe   \n",
        "1                         0                  Not in universe   \n",
        "2                         0                  Not in universe   \n",
        "3                         0                  Not in universe   \n",
        "4                         0                  Not in universe   \n",
        "\n",
        "   veterans_benefits  weeks_worked_in_year  year income_level  \n",
        "0                  2                     0    95            0  \n",
        "1                  2                    52    94            0  \n",
        "2                  2                     0    95            0  \n",
        "3                  0                     0    94            0  \n",
        "4                  0                     0    94            0  \n",
        "\n",
        "[5 rows x 41 columns]\n"
       ]
      }
     ],
     "prompt_number": 13
    },
    {
     "cell_type": "code",
     "collapsed": false,
     "input": [
      "plt.hist(train_df['age'],bins=20)\n",
      "plt.show()"
     ],
     "language": "python",
     "metadata": {},
     "outputs": [
      {
       "metadata": {},
       "output_type": "display_data",
       "png": "[encoded data removed]",
       "text": [
        "<matplotlib.figure.Figure at 0x7f7b057f73d0>"
       ]
      }
     ],
     "prompt_number": 16
    },
    {
     "cell_type": "code",
     "collapsed": false,
     "input": [
      "plt.hist(train_df['capital_losses'],bins=20)\n",
      "plt.show()"
     ],
     "language": "python",
     "metadata": {},
     "outputs": [
      {
       "metadata": {},
       "output_type": "display_data",
       "png": "[encoded data removed]",
       "text": [
        "<matplotlib.figure.Figure at 0x7f7b05598ed0>"
       ]
      }
     ],
     "prompt_number": 17
    },
    {
     "cell_type": "code",
     "collapsed": false,
     "input": [],
     "language": "python",
     "metadata": {},
     "outputs": []
    }
   ],
   "metadata": {}
  }
 ]
}